{
 "cells": [
  {
   "cell_type": "code",
   "execution_count": 1,
   "metadata": {
    "colab": {
     "base_uri": "https://localhost:8080/"
    },
    "id": "WLGlEWggI95L",
    "outputId": "30f6c6a2-21ab-4fa8-b4bd-5369a8e59ee7"
   },
   "outputs": [
    {
     "name": "stderr",
     "output_type": "stream",
     "text": [
      "2022-10-22 16:13:30.632887: I tensorflow/core/platform/cpu_feature_guard.cc:193] This TensorFlow binary is optimized with oneAPI Deep Neural Network Library (oneDNN) to use the following CPU instructions in performance-critical operations:  AVX2 FMA\n",
      "To enable them in other operations, rebuild TensorFlow with the appropriate compiler flags.\n",
      "2022-10-22 16:13:30.802766: E tensorflow/stream_executor/cuda/cuda_blas.cc:2981] Unable to register cuBLAS factory: Attempting to register factory for plugin cuBLAS when one has already been registered\n",
      "2022-10-22 16:13:31.798005: W tensorflow/stream_executor/platform/default/dso_loader.cc:64] Could not load dynamic library 'libnvinfer.so.7'; dlerror: libnvinfer.so.7: cannot open shared object file: No such file or directory\n",
      "2022-10-22 16:13:31.798115: W tensorflow/stream_executor/platform/default/dso_loader.cc:64] Could not load dynamic library 'libnvinfer_plugin.so.7'; dlerror: libnvinfer_plugin.so.7: cannot open shared object file: No such file or directory\n",
      "2022-10-22 16:13:31.798130: W tensorflow/compiler/tf2tensorrt/utils/py_utils.cc:38] TF-TRT Warning: Cannot dlopen some TensorRT libraries. If you would like to use Nvidia GPU with TensorRT, please make sure the missing libraries mentioned above are installed properly.\n",
      "2022-10-22 16:13:33.727798: I tensorflow/core/platform/cpu_feature_guard.cc:193] This TensorFlow binary is optimized with oneAPI Deep Neural Network Library (oneDNN) to use the following CPU instructions in performance-critical operations:  AVX2 FMA\n",
      "To enable them in other operations, rebuild TensorFlow with the appropriate compiler flags.\n"
     ]
    },
    {
     "name": "stdout",
     "output_type": "stream",
     "text": [
      "Device mapping:\n",
      "/job:localhost/replica:0/task:0/device:GPU:0 -> device: 0, name: Tesla K80, pci bus id: 0001:00:00.0, compute capability: 3.7\n",
      "\n"
     ]
    },
    {
     "name": "stderr",
     "output_type": "stream",
     "text": [
      "2022-10-22 16:13:34.401494: I tensorflow/core/common_runtime/gpu/gpu_device.cc:1616] Created device /job:localhost/replica:0/task:0/device:GPU:0 with 11553 MB memory:  -> device: 0, name: Tesla K80, pci bus id: 0001:00:00.0, compute capability: 3.7\n"
     ]
    }
   ],
   "source": [
    "# initiating gpu using tensorflow.\n",
    "import tensorflow as tf\n",
    "from tensorflow.compat.v1.keras.backend import set_session\n",
    "config = tf.compat.v1.ConfigProto()\n",
    "config.gpu_options.allow_growth = True\n",
    "config.log_device_placement = True\n",
    "sess = tf.compat.v1.Session(config=config)\n",
    "set_session(sess)"
   ]
  },
  {
   "cell_type": "code",
   "execution_count": 2,
   "metadata": {
    "colab": {
     "base_uri": "https://localhost:8080/"
    },
    "id": "jzZlDyaaLava",
    "outputId": "812b31e1-6054-4270-b256-e6fb0f3b23ff"
   },
   "outputs": [],
   "source": [
    "import numpy as np\n",
    "import pandas as pd\n",
    "import glob\n",
    "import random \n",
    "import os\n",
    "import cv2\n",
    "from shutil import copy,copytree\n",
    "import shutil\n",
    "\n",
    "\n",
    "from patchify import patchify\n",
    "\n",
    "#from google.colab import files\n",
    "import os\n",
    "#import zipfile\n",
    "\n",
    "#visulaziation\n",
    "import matplotlib.pyplot as plt\n",
    "#from google.colab.patches import cv2_imshow\n",
    "\n",
    "\n",
    "# image\n",
    "from PIL import Image\n",
    "\n",
    "# sklearn\n",
    "from sklearn.preprocessing import LabelEncoder\n",
    "from sklearn.model_selection import train_test_split\n",
    "#tensorflow\n",
    "import tensorflow as tf\n",
    "from tensorflow.keras import Sequential\n",
    "from tensorflow.keras import layers\n",
    "from tensorflow.keras.callbacks import EarlyStopping, ReduceLROnPlateau\n",
    "from tensorflow.keras.utils import to_categorical\n",
    "from tensorflow.keras.preprocessing.image import ImageDataGenerator, load_img,img_to_array\n",
    "from tensorflow.keras.applications import VGG16, InceptionV3, ResNet101V2, Xception, ResNet50V2, VGG19\n",
    "from tensorflow.keras import optimizers\n",
    "from tensorflow.keras.optimizers import Adam\n",
    "#from tensorflow.keras.applications.vgg16 import preprocess_input\n",
    "from tensorflow.keras.models import load_model\n",
    "from tensorflow.keras import models, layers\n",
    "from keras.utils.vis_utils import plot_model\n",
    "from tensorflow.keras.layers import Dense,Conv2D,MaxPool2D,Flatten,Dropout,BatchNormalization,Activation,GlobalAveragePooling2D\n",
    "\n",
    "from sklearn.metrics import accuracy_score\n",
    "from sklearn.metrics import precision_score\n",
    "from sklearn.metrics import recall_score\n",
    "from sklearn.metrics import confusion_matrix\n",
    "\n",
    "#setting seed to reproduce the same result every time the code is re-run\n",
    "random_state = 17\n",
    "tf.random.set_seed(random_state)\n",
    "np.random.seed(random_state)\n",
    "\n"
   ]
  },
  {
   "cell_type": "code",
   "execution_count": 3,
   "metadata": {
    "id": "mVdvrerPvquH"
   },
   "outputs": [],
   "source": [
    "import warnings\n",
    "warnings.filterwarnings(\"ignore\")"
   ]
  },
  {
   "cell_type": "code",
   "execution_count": 4,
   "metadata": {
    "id": "qzbdyhuKmRD_"
   },
   "outputs": [],
   "source": [
    "df=pd.read_csv('./Concat_Split_Images/files_and_targets.csv')"
   ]
  },
  {
   "cell_type": "code",
   "execution_count": 5,
   "metadata": {
    "colab": {
     "base_uri": "https://localhost:8080/",
     "height": 206
    },
    "id": "PyHjWBCsJI7h",
    "outputId": "50d69e1a-0cfb-4f47-c92f-2e58fc6da8ad"
   },
   "outputs": [
    {
     "data": {
      "text/html": [
       "<div>\n",
       "<style scoped>\n",
       "    .dataframe tbody tr th:only-of-type {\n",
       "        vertical-align: middle;\n",
       "    }\n",
       "\n",
       "    .dataframe tbody tr th {\n",
       "        vertical-align: top;\n",
       "    }\n",
       "\n",
       "    .dataframe thead th {\n",
       "        text-align: right;\n",
       "    }\n",
       "</style>\n",
       "<table border=\"1\" class=\"dataframe\">\n",
       "  <thead>\n",
       "    <tr style=\"text-align: right;\">\n",
       "      <th></th>\n",
       "      <th>Unnamed: 0</th>\n",
       "      <th>files</th>\n",
       "      <th>target</th>\n",
       "    </tr>\n",
       "  </thead>\n",
       "  <tbody>\n",
       "    <tr>\n",
       "      <th>0</th>\n",
       "      <td>0</td>\n",
       "      <td>./Concat_Split_Images/Controls/C01_image__00.npy</td>\n",
       "      <td>Controls</td>\n",
       "    </tr>\n",
       "    <tr>\n",
       "      <th>1</th>\n",
       "      <td>1</td>\n",
       "      <td>./Concat_Split_Images/Controls/C01_image__01.npy</td>\n",
       "      <td>Controls</td>\n",
       "    </tr>\n",
       "    <tr>\n",
       "      <th>2</th>\n",
       "      <td>2</td>\n",
       "      <td>./Concat_Split_Images/Controls/C01_image__02.npy</td>\n",
       "      <td>Controls</td>\n",
       "    </tr>\n",
       "    <tr>\n",
       "      <th>3</th>\n",
       "      <td>3</td>\n",
       "      <td>./Concat_Split_Images/Controls/C01_image__10.npy</td>\n",
       "      <td>Controls</td>\n",
       "    </tr>\n",
       "    <tr>\n",
       "      <th>4</th>\n",
       "      <td>4</td>\n",
       "      <td>./Concat_Split_Images/Controls/C01_image__11.npy</td>\n",
       "      <td>Controls</td>\n",
       "    </tr>\n",
       "  </tbody>\n",
       "</table>\n",
       "</div>"
      ],
      "text/plain": [
       "   Unnamed: 0                                             files    target\n",
       "0           0  ./Concat_Split_Images/Controls/C01_image__00.npy  Controls\n",
       "1           1  ./Concat_Split_Images/Controls/C01_image__01.npy  Controls\n",
       "2           2  ./Concat_Split_Images/Controls/C01_image__02.npy  Controls\n",
       "3           3  ./Concat_Split_Images/Controls/C01_image__10.npy  Controls\n",
       "4           4  ./Concat_Split_Images/Controls/C01_image__11.npy  Controls"
      ]
     },
     "execution_count": 5,
     "metadata": {},
     "output_type": "execute_result"
    }
   ],
   "source": [
    "df.head()"
   ]
  },
  {
   "cell_type": "markdown",
   "metadata": {
    "id": "u1f2rVotIsbP"
   },
   "source": [
    "**Label encoding the traget variable:**"
   ]
  },
  {
   "cell_type": "code",
   "execution_count": 6,
   "metadata": {
    "colab": {
     "base_uri": "https://localhost:8080/",
     "height": 424
    },
    "id": "y8VFYcixmeJs",
    "outputId": "ce2b3579-0532-435b-9872-557145d90568"
   },
   "outputs": [
    {
     "data": {
      "text/html": [
       "<div>\n",
       "<style scoped>\n",
       "    .dataframe tbody tr th:only-of-type {\n",
       "        vertical-align: middle;\n",
       "    }\n",
       "\n",
       "    .dataframe tbody tr th {\n",
       "        vertical-align: top;\n",
       "    }\n",
       "\n",
       "    .dataframe thead th {\n",
       "        text-align: right;\n",
       "    }\n",
       "</style>\n",
       "<table border=\"1\" class=\"dataframe\">\n",
       "  <thead>\n",
       "    <tr style=\"text-align: right;\">\n",
       "      <th></th>\n",
       "      <th>Unnamed: 0</th>\n",
       "      <th>files</th>\n",
       "      <th>target</th>\n",
       "      <th>category</th>\n",
       "    </tr>\n",
       "  </thead>\n",
       "  <tbody>\n",
       "    <tr>\n",
       "      <th>0</th>\n",
       "      <td>0</td>\n",
       "      <td>./Concat_Split_Images/Controls/C01_image__00.npy</td>\n",
       "      <td>Controls</td>\n",
       "      <td>0</td>\n",
       "    </tr>\n",
       "    <tr>\n",
       "      <th>1</th>\n",
       "      <td>1</td>\n",
       "      <td>./Concat_Split_Images/Controls/C01_image__01.npy</td>\n",
       "      <td>Controls</td>\n",
       "      <td>0</td>\n",
       "    </tr>\n",
       "    <tr>\n",
       "      <th>2</th>\n",
       "      <td>2</td>\n",
       "      <td>./Concat_Split_Images/Controls/C01_image__02.npy</td>\n",
       "      <td>Controls</td>\n",
       "      <td>0</td>\n",
       "    </tr>\n",
       "    <tr>\n",
       "      <th>3</th>\n",
       "      <td>3</td>\n",
       "      <td>./Concat_Split_Images/Controls/C01_image__10.npy</td>\n",
       "      <td>Controls</td>\n",
       "      <td>0</td>\n",
       "    </tr>\n",
       "    <tr>\n",
       "      <th>4</th>\n",
       "      <td>4</td>\n",
       "      <td>./Concat_Split_Images/Controls/C01_image__11.npy</td>\n",
       "      <td>Controls</td>\n",
       "      <td>0</td>\n",
       "    </tr>\n",
       "    <tr>\n",
       "      <th>...</th>\n",
       "      <td>...</td>\n",
       "      <td>...</td>\n",
       "      <td>...</td>\n",
       "      <td>...</td>\n",
       "    </tr>\n",
       "    <tr>\n",
       "      <th>323</th>\n",
       "      <td>323</td>\n",
       "      <td>./Concat_Split_Images/Patients/P02_image__83.npy</td>\n",
       "      <td>Patients</td>\n",
       "      <td>1</td>\n",
       "    </tr>\n",
       "    <tr>\n",
       "      <th>324</th>\n",
       "      <td>324</td>\n",
       "      <td>./Concat_Split_Images/Patients/P02_image__84.npy</td>\n",
       "      <td>Patients</td>\n",
       "      <td>1</td>\n",
       "    </tr>\n",
       "    <tr>\n",
       "      <th>325</th>\n",
       "      <td>325</td>\n",
       "      <td>./Concat_Split_Images/Patients/P02_image__85.npy</td>\n",
       "      <td>Patients</td>\n",
       "      <td>1</td>\n",
       "    </tr>\n",
       "    <tr>\n",
       "      <th>326</th>\n",
       "      <td>326</td>\n",
       "      <td>./Concat_Split_Images/Patients/P02_image__86.npy</td>\n",
       "      <td>Patients</td>\n",
       "      <td>1</td>\n",
       "    </tr>\n",
       "    <tr>\n",
       "      <th>327</th>\n",
       "      <td>327</td>\n",
       "      <td>./Concat_Split_Images/Patients/P02_image__87.npy</td>\n",
       "      <td>Patients</td>\n",
       "      <td>1</td>\n",
       "    </tr>\n",
       "  </tbody>\n",
       "</table>\n",
       "<p>328 rows × 4 columns</p>\n",
       "</div>"
      ],
      "text/plain": [
       "     Unnamed: 0                                             files    target  \\\n",
       "0             0  ./Concat_Split_Images/Controls/C01_image__00.npy  Controls   \n",
       "1             1  ./Concat_Split_Images/Controls/C01_image__01.npy  Controls   \n",
       "2             2  ./Concat_Split_Images/Controls/C01_image__02.npy  Controls   \n",
       "3             3  ./Concat_Split_Images/Controls/C01_image__10.npy  Controls   \n",
       "4             4  ./Concat_Split_Images/Controls/C01_image__11.npy  Controls   \n",
       "..          ...                                               ...       ...   \n",
       "323         323  ./Concat_Split_Images/Patients/P02_image__83.npy  Patients   \n",
       "324         324  ./Concat_Split_Images/Patients/P02_image__84.npy  Patients   \n",
       "325         325  ./Concat_Split_Images/Patients/P02_image__85.npy  Patients   \n",
       "326         326  ./Concat_Split_Images/Patients/P02_image__86.npy  Patients   \n",
       "327         327  ./Concat_Split_Images/Patients/P02_image__87.npy  Patients   \n",
       "\n",
       "     category  \n",
       "0           0  \n",
       "1           0  \n",
       "2           0  \n",
       "3           0  \n",
       "4           0  \n",
       "..        ...  \n",
       "323         1  \n",
       "324         1  \n",
       "325         1  \n",
       "326         1  \n",
       "327         1  \n",
       "\n",
       "[328 rows x 4 columns]"
      ]
     },
     "execution_count": 6,
     "metadata": {},
     "output_type": "execute_result"
    }
   ],
   "source": [
    "from sklearn.preprocessing import LabelEncoder\n",
    "labelencoder = LabelEncoder()\n",
    "#num_classes = 2\n",
    "df['category'] = labelencoder.fit_transform(df['target'])\n",
    "df"
   ]
  },
  {
   "cell_type": "markdown",
   "metadata": {
    "id": "4SlAu0aIC00h"
   },
   "source": [
    "**Creating a column image and Stroing the files names as numpy array:**"
   ]
  },
  {
   "cell_type": "code",
   "execution_count": 7,
   "metadata": {
    "id": "8lt96UaRC0N3"
   },
   "outputs": [],
   "source": [
    "df['image']=df['files'].map(lambda x: np.load(x))"
   ]
  },
  {
   "cell_type": "markdown",
   "metadata": {
    "id": "zW0YWP2GEZmH"
   },
   "source": [
    "##**Feature and Target Split**"
   ]
  },
  {
   "cell_type": "code",
   "execution_count": 8,
   "metadata": {
    "id": "b4kHXUbqEelP"
   },
   "outputs": [],
   "source": [
    "features=df['image']\n",
    "target=df['category']"
   ]
  },
  {
   "cell_type": "markdown",
   "metadata": {
    "id": "m7mPS1zaFFTP"
   },
   "source": [
    "**Training, Validation and Test Split**\n",
    "\n",
    "We first split the dataset to 80% training data and 20% testing data. We then take the 80% training data and split it into 87.5% training data and 12.5% validation data, to form our 70% Training - 10% Validation - 20% Testing. Note that the split will be applied across each class individually to ensure there is enough samples from each class in each split for accurate modeling, meaning each class will be split 70:10:20 as well. This is done by setting 'stratify' in train_test_split function to our target.\n",
    "\n",
    "Training: 80% 87.5% = 70% Validation: 80% 12.5% = 10% Testing: 20%"
   ]
  },
  {
   "cell_type": "code",
   "execution_count": 37,
   "metadata": {
    "id": "BffA2u2wFPed"
   },
   "outputs": [],
   "source": [
    "X_train,X_test,y_train,y_test_r=train_test_split(features,target,train_size=0.9,stratify=target, random_state=random_state)"
   ]
  },
  {
   "cell_type": "code",
   "execution_count": 38,
   "metadata": {
    "id": "tj6qJfjeFRJX"
   },
   "outputs": [],
   "source": [
    "X_train, X_val, y_train, y_val = train_test_split(X_train, y_train, train_size=0.9, stratify=y_train, random_state=random_state)"
   ]
  },
  {
   "cell_type": "markdown",
   "metadata": {
    "id": "uHwRtn1iFukr"
   },
   "source": [
    "**Target One-Hot Encoding**\n",
    "\n",
    "Creating one-hot vectors of size (1,2) for each label\n",
    "\n"
   ]
  },
  {
   "cell_type": "code",
   "execution_count": 39,
   "metadata": {
    "id": "w71wnlWOFuLZ"
   },
   "outputs": [],
   "source": [
    "from keras.utils.np_utils import to_categorical\n",
    "num_classes = 2\n",
    "y_train = to_categorical(y_train, num_classes = 2)\n",
    "y_test = to_categorical(y_test_r, num_classes = 2)\n",
    "y_val = to_categorical(y_val, num_classes = 2)"
   ]
  },
  {
   "cell_type": "markdown",
   "metadata": {
    "id": "M7x4-9lbQYUh"
   },
   "source": [
    "**Converting numarry into tensor**"
   ]
  },
  {
   "cell_type": "code",
   "execution_count": 12,
   "metadata": {
    "id": "BBDH4uCRQWIA"
   },
   "outputs": [],
   "source": [
    "X_train_normal = np.asarray(X_train.tolist())\n",
    "X_test_normal = np.asarray(X_test.tolist())\n",
    "X_val_normal=np.asarray(X_val.tolist())"
   ]
  },
  {
   "cell_type": "code",
   "execution_count": 13,
   "metadata": {
    "id": "NwS2rQrYSsTD"
   },
   "outputs": [],
   "source": [
    "input_shape=(512,512,10)\n",
    "X_train_normal=X_train_normal.reshape(X_train_normal.shape[0],*(input_shape))\n",
    "X_test_normal=X_test_normal.reshape(X_test_normal.shape[0],*(input_shape))\n",
    "X_val_normal=X_val_normal.reshape(X_val_normal.shape[0],*(input_shape))"
   ]
  },
  {
   "cell_type": "code",
   "execution_count": 14,
   "metadata": {
    "colab": {
     "base_uri": "https://localhost:8080/"
    },
    "id": "kRZpt4WXSwNw",
    "outputId": "c23cea39-8817-4cf8-aa68-0d674b852d3b"
   },
   "outputs": [
    {
     "data": {
      "text/plain": [
       "(512, 512, 10)"
      ]
     },
     "execution_count": 14,
     "metadata": {},
     "output_type": "execute_result"
    }
   ],
   "source": [
    "X_train_normal[0].shape"
   ]
  },
  {
   "cell_type": "markdown",
   "metadata": {
    "id": "-RWamI6s8OQj"
   },
   "source": [
    "#**Building the model**\n",
    "**Transfer Learning Using ResNet101V2**"
   ]
  },
  {
   "cell_type": "code",
   "execution_count": 15,
   "metadata": {
    "id": "WXN1GIFH67hU"
   },
   "outputs": [],
   "source": [
    "from tensorflow.keras.applications.vgg16 import VGG16\n",
    "import numpy as np\n",
    "from tensorflow.keras.models import Model\n",
    "from tensorflow.keras.layers import Dropout\n",
    "from keras.backend import dropout\n",
    "from keras.models import Sequential\n",
    "from keras.layers import Dense, Conv2D, MaxPool2D , Flatten"
   ]
  },
  {
   "cell_type": "code",
   "execution_count": 16,
   "metadata": {
    "colab": {
     "base_uri": "https://localhost:8080/"
    },
    "id": "mAwVdYYX6-9z",
    "outputId": "6f893e78-0b04-498b-9d25-2db568df8dbb"
   },
   "outputs": [
    {
     "name": "stderr",
     "output_type": "stream",
     "text": [
      "2022-10-22 16:14:07.714412: I tensorflow/core/common_runtime/gpu/gpu_device.cc:1616] Created device /job:localhost/replica:0/task:0/device:GPU:0 with 11553 MB memory:  -> device: 0, name: Tesla K80, pci bus id: 0001:00:00.0, compute capability: 3.7\n"
     ]
    },
    {
     "name": "stdout",
     "output_type": "stream",
     "text": [
      "Model: \"vgg16\"\n",
      "_________________________________________________________________\n",
      " Layer (type)                Output Shape              Param #   \n",
      "=================================================================\n",
      " input_1 (InputLayer)        [(None, None, None, 3)]   0         \n",
      "                                                                 \n",
      " block1_conv1 (Conv2D)       (None, None, None, 64)    1792      \n",
      "                                                                 \n",
      " block1_conv2 (Conv2D)       (None, None, None, 64)    36928     \n",
      "                                                                 \n",
      " block1_pool (MaxPooling2D)  (None, None, None, 64)    0         \n",
      "                                                                 \n",
      " block2_conv1 (Conv2D)       (None, None, None, 128)   73856     \n",
      "                                                                 \n",
      " block2_conv2 (Conv2D)       (None, None, None, 128)   147584    \n",
      "                                                                 \n",
      " block2_pool (MaxPooling2D)  (None, None, None, 128)   0         \n",
      "                                                                 \n",
      " block3_conv1 (Conv2D)       (None, None, None, 256)   295168    \n",
      "                                                                 \n",
      " block3_conv2 (Conv2D)       (None, None, None, 256)   590080    \n",
      "                                                                 \n",
      " block3_conv3 (Conv2D)       (None, None, None, 256)   590080    \n",
      "                                                                 \n",
      " block3_pool (MaxPooling2D)  (None, None, None, 256)   0         \n",
      "                                                                 \n",
      " block4_conv1 (Conv2D)       (None, None, None, 512)   1180160   \n",
      "                                                                 \n",
      " block4_conv2 (Conv2D)       (None, None, None, 512)   2359808   \n",
      "                                                                 \n",
      " block4_conv3 (Conv2D)       (None, None, None, 512)   2359808   \n",
      "                                                                 \n",
      " block4_pool (MaxPooling2D)  (None, None, None, 512)   0         \n",
      "                                                                 \n",
      " block5_conv1 (Conv2D)       (None, None, None, 512)   2359808   \n",
      "                                                                 \n",
      " block5_conv2 (Conv2D)       (None, None, None, 512)   2359808   \n",
      "                                                                 \n",
      " block5_conv3 (Conv2D)       (None, None, None, 512)   2359808   \n",
      "                                                                 \n",
      " block5_pool (MaxPooling2D)  (None, None, None, 512)   0         \n",
      "                                                                 \n",
      "=================================================================\n",
      "Total params: 14,714,688\n",
      "Trainable params: 14,714,688\n",
      "Non-trainable params: 0\n",
      "_________________________________________________________________\n",
      "None\n"
     ]
    }
   ],
   "source": [
    "#Import vgg model  \n",
    "vgg_model = VGG16(include_top=False, weights='imagenet',classes=2)\n",
    "print(vgg_model.summary())"
   ]
  },
  {
   "cell_type": "code",
   "execution_count": 17,
   "metadata": {
    "id": "Iv68BkvX7Bcs"
   },
   "outputs": [],
   "source": [
    "#Get the dictionary of config for vgg16\n",
    "vgg_config = vgg_model.get_config()"
   ]
  },
  {
   "cell_type": "code",
   "execution_count": 18,
   "metadata": {
    "id": "EFst4JJk7FWk"
   },
   "outputs": [],
   "source": [
    "# Change the input shape to new desired shape\n",
    "h, w, c = 512, 512, 10\n",
    "vgg_config[\"layers\"][0][\"config\"][\"batch_input_shape\"] = (None, h, w, c)"
   ]
  },
  {
   "cell_type": "code",
   "execution_count": 19,
   "metadata": {
    "colab": {
     "base_uri": "https://localhost:8080/"
    },
    "id": "6xVrnRhh7HhC",
    "outputId": "4457dbfc-ce7b-4836-ef52-c0f51c780cc7"
   },
   "outputs": [
    {
     "name": "stdout",
     "output_type": "stream",
     "text": [
      "Model: \"vgg16\"\n",
      "_________________________________________________________________\n",
      " Layer (type)                Output Shape              Param #   \n",
      "=================================================================\n",
      " input_1 (InputLayer)        [(None, 512, 512, 10)]    0         \n",
      "                                                                 \n",
      " block1_conv1 (Conv2D)       (None, 512, 512, 64)      5824      \n",
      "                                                                 \n",
      " block1_conv2 (Conv2D)       (None, 512, 512, 64)      36928     \n",
      "                                                                 \n",
      " block1_pool (MaxPooling2D)  (None, 256, 256, 64)      0         \n",
      "                                                                 \n",
      " block2_conv1 (Conv2D)       (None, 256, 256, 128)     73856     \n",
      "                                                                 \n",
      " block2_conv2 (Conv2D)       (None, 256, 256, 128)     147584    \n",
      "                                                                 \n",
      " block2_pool (MaxPooling2D)  (None, 128, 128, 128)     0         \n",
      "                                                                 \n",
      " block3_conv1 (Conv2D)       (None, 128, 128, 256)     295168    \n",
      "                                                                 \n",
      " block3_conv2 (Conv2D)       (None, 128, 128, 256)     590080    \n",
      "                                                                 \n",
      " block3_conv3 (Conv2D)       (None, 128, 128, 256)     590080    \n",
      "                                                                 \n",
      " block3_pool (MaxPooling2D)  (None, 64, 64, 256)       0         \n",
      "                                                                 \n",
      " block4_conv1 (Conv2D)       (None, 64, 64, 512)       1180160   \n",
      "                                                                 \n",
      " block4_conv2 (Conv2D)       (None, 64, 64, 512)       2359808   \n",
      "                                                                 \n",
      " block4_conv3 (Conv2D)       (None, 64, 64, 512)       2359808   \n",
      "                                                                 \n",
      " block4_pool (MaxPooling2D)  (None, 32, 32, 512)       0         \n",
      "                                                                 \n",
      " block5_conv1 (Conv2D)       (None, 32, 32, 512)       2359808   \n",
      "                                                                 \n",
      " block5_conv2 (Conv2D)       (None, 32, 32, 512)       2359808   \n",
      "                                                                 \n",
      " block5_conv3 (Conv2D)       (None, 32, 32, 512)       2359808   \n",
      "                                                                 \n",
      " block5_pool (MaxPooling2D)  (None, 16, 16, 512)       0         \n",
      "                                                                 \n",
      "=================================================================\n",
      "Total params: 14,718,720\n",
      "Trainable params: 14,718,720\n",
      "Non-trainable params: 0\n",
      "_________________________________________________________________\n",
      "None\n"
     ]
    }
   ],
   "source": [
    "#Create new model with the updated configuration\n",
    "vgg_updated = Model.from_config(vgg_config)\n",
    "print(vgg_updated.summary())"
   ]
  },
  {
   "cell_type": "code",
   "execution_count": 20,
   "metadata": {
    "id": "Q0VqxQb-7KJp"
   },
   "outputs": [],
   "source": [
    "# Check Weights of first conv layer in the original model...\n",
    "orig_model_conv1_block1_wts = vgg_model.layers[1].get_weights()[0]"
   ]
  },
  {
   "cell_type": "code",
   "execution_count": 21,
   "metadata": {
    "colab": {
     "base_uri": "https://localhost:8080/"
    },
    "id": "cgPNs3JM7N6a",
    "outputId": "af223949-b20c-4109-a6a3-1b5a56b57195"
   },
   "outputs": [
    {
     "name": "stdout",
     "output_type": "stream",
     "text": [
      "[[-0.06815252  0.02318217  0.07346698]\n",
      " [-0.04329469  0.00610515  0.04075771]\n",
      " [-0.05001664  0.01586339  0.06408326]]\n",
      "[[ 0.02576429  0.04703876 -0.04945927]\n",
      " [ 0.00574466  0.04461532  0.08503712]\n",
      " [ 0.03286838 -0.02842337 -0.00056198]]\n",
      "[[-0.03551443 -0.05402194 -0.09000695]\n",
      " [ 0.04510195 -0.06815399 -0.01361101]\n",
      " [ 0.08246516  0.09247202 -0.05630611]]\n",
      "[[ 0.05924895  0.03225272 -0.05356552]\n",
      " [-0.05036833 -0.07272834  0.01255088]\n",
      " [ 0.07077288 -0.04729345 -0.02909327]]\n",
      "[[-0.04406929  0.04821246 -0.01903702]\n",
      " [-0.07126343  0.05197429  0.0790196 ]\n",
      " [ 0.07766052  0.0549734   0.07770554]]\n"
     ]
    }
   ],
   "source": [
    "# Check Weights of first conv layer in the new model...\n",
    "new_model_conv1_block1_wts = vgg_updated.layers[1].get_weights()[0]\n",
    "print(new_model_conv1_block1_wts[:,:,0,0])\n",
    "print(new_model_conv1_block1_wts[:,:,1,0])\n",
    "print(new_model_conv1_block1_wts[:,:,2,0])\n",
    "print(new_model_conv1_block1_wts[:,:,3,0])\n",
    "print(new_model_conv1_block1_wts[:,:,4,0])"
   ]
  },
  {
   "cell_type": "code",
   "execution_count": 22,
   "metadata": {
    "id": "lCID55PU7Q_-"
   },
   "outputs": [],
   "source": [
    "# Function that calculates average of weights along the channel axis and then\n",
    "#copies it over n number of times. n being the new channels that need to be concatenated with the original channels. \n",
    "def avg_and_copy_wts(weights, num_channels_to_fill):  #num_channels_to_fill are the extra channels for which we need to fill weights\n",
    "  average_weights = np.mean(weights, axis=-2).reshape(weights[:,:,-1:,:].shape)  #Find mean along the channel axis (second to last axis)\n",
    "  wts_copied_to_mult_channels = np.tile(average_weights, (num_channels_to_fill, 1)) #Repeat (copy) the array multiple times\n",
    "  return(wts_copied_to_mult_channels)"
   ]
  },
  {
   "cell_type": "code",
   "execution_count": 23,
   "metadata": {
    "id": "fnBv6bg57TX2"
   },
   "outputs": [],
   "source": [
    "#Get the configuration for the updated model and extract layer names. \n",
    " \n",
    "vgg_updated_config = vgg_updated.get_config()\n",
    "vgg_updated_layer_names = [vgg_updated_config['layers'][x]['name'] for x in range(len(vgg_updated_config['layers']))]"
   ]
  },
  {
   "cell_type": "code",
   "execution_count": 24,
   "metadata": {
    "id": "TM5iQxyA7WJ2"
   },
   "outputs": [],
   "source": [
    "first_conv_name = vgg_updated_layer_names[1]"
   ]
  },
  {
   "cell_type": "code",
   "execution_count": 25,
   "metadata": {
    "id": "ifS6c-Bq7ZKL"
   },
   "outputs": [],
   "source": [
    "#Update weights for all layers. And for the first conv layer, copy the first\n",
    "#three layer weights and fill others with the average of all three. \n",
    "for layer in vgg_model.layers:\n",
    "    if layer.name in vgg_updated_layer_names:\n",
    "     \n",
    "      if layer.get_weights() != []:  #All convolutional layers and layers with weights (no input layer or any pool layers)\n",
    "        target_layer = vgg_updated.get_layer(layer.name)\n",
    "    \n",
    "        if layer.name in first_conv_name:    #For the first convolutionl layer\n",
    "          weights = layer.get_weights()[0]\n",
    "          biases  = layer.get_weights()[1]\n",
    "    \n",
    "          weights_extra_channels = np.concatenate((weights,   #Keep the first 3 channel weights as-is and copy the weights for additional channels.\n",
    "                                                  avg_and_copy_wts(weights, c - 3)),  # - 3 as we already have weights for the 3 existing channels in our model. \n",
    "                                                  axis=-2)\n",
    "                                                  \n",
    "          target_layer.set_weights([weights_extra_channels, biases])  #Now set weights for the first conv. layer\n",
    "          target_layer.trainable = False   #You can make this trainable if you want. \n",
    "    \n",
    "        else:\n",
    "          target_layer.set_weights(layer.get_weights())   #Set weights to all other layers. \n",
    "          target_layer.trainable = False  #You can make this trainable if you want."
   ]
  },
  {
   "cell_type": "code",
   "execution_count": 26,
   "metadata": {
    "colab": {
     "base_uri": "https://localhost:8080/"
    },
    "id": "5vsEL9Sq7cM6",
    "outputId": "d7725359-2e73-4adc-ff2e-9c52aba3d6a2"
   },
   "outputs": [
    {
     "name": "stdout",
     "output_type": "stream",
     "text": [
      "[[ 0.42947057  0.373467   -0.06136011]\n",
      " [ 0.27476987  0.03868078 -0.36722335]\n",
      " [-0.05746817 -0.26224968 -0.35009676]]\n",
      "[[ 0.55037946  0.44007453 -0.08138704]\n",
      " [ 0.34573907  0.04063221 -0.4535013 ]\n",
      " [-0.05863491 -0.33066967 -0.4850302 ]]\n",
      "[[ 0.4800154   0.4085474  -0.06514555]\n",
      " [ 0.31047726  0.05020237 -0.40338343]\n",
      " [-0.05087169 -0.2852275  -0.41851634]]\n",
      "[[ 0.48662183  0.40736297 -0.06929757]\n",
      " [ 0.31032872  0.04317178 -0.40803602]\n",
      " [-0.05565825 -0.29271564 -0.4178811 ]]\n",
      "[[ 0.48662183  0.40736297 -0.06929757]\n",
      " [ 0.31032872  0.04317178 -0.40803602]\n",
      " [-0.05565825 -0.29271564 -0.4178811 ]]\n"
     ]
    }
   ],
   "source": [
    "# Check Weights of first conv layer in the new model...\n",
    "#Compare against the original model weights\n",
    "new_model_conv1_block1_wts_updated = vgg_updated.layers[1].get_weights()[0]\n",
    "print(new_model_conv1_block1_wts_updated[:,:,0,0])\n",
    "print(new_model_conv1_block1_wts_updated[:,:,1,0])\n",
    "print(new_model_conv1_block1_wts_updated[:,:,2,0])\n",
    "print(new_model_conv1_block1_wts_updated[:,:,5,0])\n",
    "print(new_model_conv1_block1_wts_updated[:,:,8,0])"
   ]
  },
  {
   "cell_type": "code",
   "execution_count": 27,
   "metadata": {
    "id": "HPJg5Ynz8Ncl"
   },
   "outputs": [],
   "source": [
    "#instantiate a base model with pre-trained weights.\n",
    "base_model=vgg_updated"
   ]
  },
  {
   "cell_type": "code",
   "execution_count": 28,
   "metadata": {
    "id": "6mYTgLzv8UqE"
   },
   "outputs": [],
   "source": [
    "#freeze the base model\n",
    "base_model.trainable = False"
   ]
  },
  {
   "cell_type": "code",
   "execution_count": 29,
   "metadata": {
    "id": "zAPa1Sq7xNu_"
   },
   "outputs": [],
   "source": [
    "#Create new model on top\n",
    "model=Sequential()\n",
    "model.add(base_model)\n",
    "model.add(Dense(2048))\n",
    "model.add(Activation('relu'))\n",
    "model.add(Dense(1024))\n",
    "model.add(Activation('relu'))\n",
    "model.add(Dense(512))\n",
    "model.add(Activation('relu'))\n",
    "model.add(Dense(256))\n",
    "model.add(Activation('relu'))\n",
    "model.add(Dropout(0.5))\n",
    "model.add(Flatten())\n",
    "model.add(Dense(128))\n",
    "model.add(Activation('relu'))\n",
    "model.add(Dropout(0.5))\n",
    "model.add(Dense(2, activation='softmax'))"
   ]
  },
  {
   "cell_type": "code",
   "execution_count": 30,
   "metadata": {
    "colab": {
     "base_uri": "https://localhost:8080/"
    },
    "id": "HDWB6t3n8fz-",
    "outputId": "7c9ede53-020e-4198-9dae-8c721c738f3f"
   },
   "outputs": [
    {
     "name": "stdout",
     "output_type": "stream",
     "text": [
      "Model compilation completed.\n"
     ]
    }
   ],
   "source": [
    "optim=Adam(learning_rate=0.001)\n",
    "model.compile(loss='binary_crossentropy',metrics=['accuracy'],optimizer=optim)\n",
    "print(\"Model compilation completed.\")"
   ]
  },
  {
   "cell_type": "code",
   "execution_count": 31,
   "metadata": {
    "id": "bjdChHRk8idV"
   },
   "outputs": [],
   "source": [
    "callbacks = [EarlyStopping(monitor='val_accuracy',patience=200)]"
   ]
  },
  {
   "cell_type": "code",
   "execution_count": 32,
   "metadata": {
    "colab": {
     "base_uri": "https://localhost:8080/"
    },
    "id": "OJtDLmh0rqJS",
    "outputId": "ae4c0372-9ffa-4e61-a3dc-51ed9a2d6089"
   },
   "outputs": [
    {
     "name": "stdout",
     "output_type": "stream",
     "text": [
      "Epoch 1/200\n"
     ]
    },
    {
     "name": "stderr",
     "output_type": "stream",
     "text": [
      "2022-10-22 16:14:11.867215: I tensorflow/stream_executor/cuda/cuda_dnn.cc:384] Loaded cuDNN version 8201\n",
      "2022-10-22 16:14:12.132804: I tensorflow/core/platform/default/subprocess.cc:304] Start cannot spawn child process: No such file or directory\n"
     ]
    },
    {
     "name": "stdout",
     "output_type": "stream",
     "text": [
      "133/133 [==============================] - 48s 309ms/step - loss: 1.4816 - accuracy: 0.8415 - val_loss: 3.4624e-05 - val_accuracy: 1.0000\n",
      "Epoch 2/200\n",
      "133/133 [==============================] - 39s 291ms/step - loss: 0.0319 - accuracy: 0.9849 - val_loss: 9.3061e-06 - val_accuracy: 1.0000\n",
      "Epoch 3/200\n",
      "133/133 [==============================] - 39s 291ms/step - loss: 0.0458 - accuracy: 0.9887 - val_loss: 1.4616e-12 - val_accuracy: 1.0000\n",
      "Epoch 4/200\n",
      "133/133 [==============================] - 39s 291ms/step - loss: 0.3190 - accuracy: 0.9774 - val_loss: 1.5882e-10 - val_accuracy: 1.0000\n",
      "Epoch 5/200\n",
      "133/133 [==============================] - 39s 292ms/step - loss: 0.2122 - accuracy: 0.9660 - val_loss: 5.2655e-11 - val_accuracy: 1.0000\n",
      "Epoch 6/200\n",
      "133/133 [==============================] - 39s 292ms/step - loss: 0.0205 - accuracy: 0.9887 - val_loss: 3.1868e-12 - val_accuracy: 1.0000\n",
      "Epoch 7/200\n",
      "133/133 [==============================] - 39s 292ms/step - loss: 0.0177 - accuracy: 0.9925 - val_loss: 6.3027e-15 - val_accuracy: 1.0000\n",
      "Epoch 8/200\n",
      "133/133 [==============================] - 39s 293ms/step - loss: 0.2280 - accuracy: 0.9887 - val_loss: 0.4117 - val_accuracy: 0.9667\n",
      "Epoch 9/200\n",
      "133/133 [==============================] - 39s 293ms/step - loss: 0.0557 - accuracy: 0.9811 - val_loss: 0.4869 - val_accuracy: 0.9667\n",
      "Epoch 10/200\n",
      "133/133 [==============================] - 39s 294ms/step - loss: 0.0657 - accuracy: 0.9849 - val_loss: 0.0446 - val_accuracy: 0.9667\n",
      "Epoch 11/200\n",
      "133/133 [==============================] - 39s 294ms/step - loss: 5.6731 - accuracy: 0.9472 - val_loss: 3.0054e-23 - val_accuracy: 1.0000\n",
      "Epoch 12/200\n",
      "133/133 [==============================] - 39s 295ms/step - loss: 0.2988 - accuracy: 0.9774 - val_loss: 4.9986e-23 - val_accuracy: 1.0000\n",
      "Epoch 13/200\n",
      "133/133 [==============================] - 39s 295ms/step - loss: 0.0529 - accuracy: 0.9925 - val_loss: 2.5855e-26 - val_accuracy: 1.0000\n",
      "Epoch 14/200\n",
      "133/133 [==============================] - 39s 296ms/step - loss: 0.0121 - accuracy: 0.9925 - val_loss: 8.5974e-32 - val_accuracy: 1.0000\n",
      "Epoch 15/200\n",
      "133/133 [==============================] - 39s 296ms/step - loss: 0.0735 - accuracy: 0.9925 - val_loss: 1.7638e-33 - val_accuracy: 1.0000\n",
      "Epoch 16/200\n",
      "133/133 [==============================] - 39s 297ms/step - loss: 0.0127 - accuracy: 0.9962 - val_loss: 1.7615e-36 - val_accuracy: 1.0000\n",
      "Epoch 17/200\n",
      "133/133 [==============================] - 40s 298ms/step - loss: 0.0114 - accuracy: 0.9962 - val_loss: 0.0000e+00 - val_accuracy: 1.0000\n",
      "Epoch 18/200\n",
      "133/133 [==============================] - 40s 297ms/step - loss: 0.0150 - accuracy: 0.9962 - val_loss: 0.0000e+00 - val_accuracy: 1.0000\n",
      "Epoch 19/200\n",
      "133/133 [==============================] - 40s 299ms/step - loss: 0.0117 - accuracy: 0.9962 - val_loss: 0.0000e+00 - val_accuracy: 1.0000\n",
      "Epoch 20/200\n",
      "133/133 [==============================] - 40s 299ms/step - loss: 0.0090 - accuracy: 0.9962 - val_loss: 0.0000e+00 - val_accuracy: 1.0000\n",
      "Epoch 21/200\n",
      "133/133 [==============================] - 40s 299ms/step - loss: 0.0191 - accuracy: 0.9962 - val_loss: 0.0000e+00 - val_accuracy: 1.0000\n",
      "Epoch 22/200\n",
      "133/133 [==============================] - 40s 300ms/step - loss: 0.0074 - accuracy: 0.9962 - val_loss: 0.0000e+00 - val_accuracy: 1.0000\n",
      "Epoch 23/200\n",
      "133/133 [==============================] - 40s 299ms/step - loss: 0.0068 - accuracy: 0.9962 - val_loss: 0.0000e+00 - val_accuracy: 1.0000\n",
      "Epoch 24/200\n",
      "133/133 [==============================] - 40s 300ms/step - loss: 0.0053 - accuracy: 0.9962 - val_loss: 0.0000e+00 - val_accuracy: 1.0000\n",
      "Epoch 25/200\n",
      "133/133 [==============================] - 40s 300ms/step - loss: 0.0070 - accuracy: 0.9962 - val_loss: 0.0000e+00 - val_accuracy: 1.0000\n",
      "Epoch 26/200\n",
      "133/133 [==============================] - 40s 301ms/step - loss: 0.0088 - accuracy: 0.9962 - val_loss: 0.0000e+00 - val_accuracy: 1.0000\n",
      "Epoch 27/200\n",
      "133/133 [==============================] - 40s 301ms/step - loss: 0.0054 - accuracy: 0.9962 - val_loss: 0.0000e+00 - val_accuracy: 1.0000\n",
      "Epoch 28/200\n",
      "133/133 [==============================] - 40s 301ms/step - loss: 0.0053 - accuracy: 0.9962 - val_loss: 0.0000e+00 - val_accuracy: 1.0000\n",
      "Epoch 29/200\n",
      "133/133 [==============================] - 40s 301ms/step - loss: 0.0053 - accuracy: 0.9962 - val_loss: 0.0000e+00 - val_accuracy: 1.0000\n",
      "Epoch 30/200\n",
      "133/133 [==============================] - 40s 301ms/step - loss: 0.0462 - accuracy: 0.9962 - val_loss: 0.0000e+00 - val_accuracy: 1.0000\n",
      "Epoch 31/200\n",
      "133/133 [==============================] - 40s 301ms/step - loss: 4.3026 - accuracy: 0.9509 - val_loss: 1.4434e-26 - val_accuracy: 1.0000\n",
      "Epoch 32/200\n",
      "133/133 [==============================] - 40s 301ms/step - loss: 2.4890 - accuracy: 0.9736 - val_loss: 2.9262 - val_accuracy: 0.9667\n",
      "Epoch 33/200\n",
      "133/133 [==============================] - 40s 301ms/step - loss: 0.0230 - accuracy: 0.9849 - val_loss: 3.3638 - val_accuracy: 0.9667\n",
      "Epoch 34/200\n",
      "133/133 [==============================] - 40s 302ms/step - loss: 0.0164 - accuracy: 0.9887 - val_loss: 3.2481 - val_accuracy: 0.9667\n",
      "Epoch 35/200\n",
      "133/133 [==============================] - 40s 301ms/step - loss: 0.0931 - accuracy: 0.9887 - val_loss: 3.1911 - val_accuracy: 0.9667\n",
      "Epoch 36/200\n",
      "133/133 [==============================] - 40s 301ms/step - loss: 0.0202 - accuracy: 0.9925 - val_loss: 3.7391 - val_accuracy: 0.9667\n",
      "Epoch 37/200\n",
      "133/133 [==============================] - 40s 301ms/step - loss: 0.0141 - accuracy: 0.9962 - val_loss: 3.8224 - val_accuracy: 0.9667\n",
      "Epoch 38/200\n",
      "133/133 [==============================] - 40s 301ms/step - loss: 0.0255 - accuracy: 0.9962 - val_loss: 0.2354 - val_accuracy: 1.0000\n",
      "Epoch 39/200\n",
      "133/133 [==============================] - 40s 301ms/step - loss: 0.0438 - accuracy: 0.9925 - val_loss: 1.1881 - val_accuracy: 0.9667\n",
      "Epoch 40/200\n",
      "133/133 [==============================] - 40s 301ms/step - loss: 0.0134 - accuracy: 0.9962 - val_loss: 1.0779 - val_accuracy: 0.9667\n",
      "Epoch 41/200\n",
      "133/133 [==============================] - 40s 301ms/step - loss: 0.0114 - accuracy: 0.9962 - val_loss: 0.9921 - val_accuracy: 0.9667\n",
      "Epoch 42/200\n",
      "133/133 [==============================] - 40s 301ms/step - loss: 0.0594 - accuracy: 0.9925 - val_loss: 0.0000e+00 - val_accuracy: 1.0000\n",
      "Epoch 43/200\n",
      "133/133 [==============================] - 40s 301ms/step - loss: 16.3954 - accuracy: 0.9472 - val_loss: 0.0000e+00 - val_accuracy: 1.0000\n",
      "Epoch 44/200\n",
      "133/133 [==============================] - 40s 301ms/step - loss: 0.0520 - accuracy: 0.9887 - val_loss: 0.0000e+00 - val_accuracy: 1.0000\n",
      "Epoch 45/200\n",
      "133/133 [==============================] - 40s 301ms/step - loss: 0.2389 - accuracy: 0.9962 - val_loss: 0.0000e+00 - val_accuracy: 1.0000\n",
      "Epoch 46/200\n",
      "133/133 [==============================] - 40s 301ms/step - loss: 0.3861 - accuracy: 0.9887 - val_loss: 0.0000e+00 - val_accuracy: 1.0000\n",
      "Epoch 47/200\n",
      "133/133 [==============================] - 40s 301ms/step - loss: 0.3446 - accuracy: 0.9887 - val_loss: 0.0000e+00 - val_accuracy: 1.0000\n",
      "Epoch 48/200\n",
      "133/133 [==============================] - 40s 301ms/step - loss: 0.0357 - accuracy: 0.9962 - val_loss: 0.0000e+00 - val_accuracy: 1.0000\n",
      "Epoch 49/200\n",
      "133/133 [==============================] - 40s 301ms/step - loss: 0.0119 - accuracy: 0.9962 - val_loss: 0.0000e+00 - val_accuracy: 1.0000\n",
      "Epoch 50/200\n",
      "133/133 [==============================] - 40s 301ms/step - loss: 0.0113 - accuracy: 0.9962 - val_loss: 0.0000e+00 - val_accuracy: 1.0000\n",
      "Epoch 51/200\n",
      "133/133 [==============================] - 40s 302ms/step - loss: 0.0117 - accuracy: 0.9962 - val_loss: 0.0000e+00 - val_accuracy: 1.0000\n",
      "Epoch 52/200\n",
      "133/133 [==============================] - 40s 301ms/step - loss: 0.0109 - accuracy: 0.9962 - val_loss: 0.0000e+00 - val_accuracy: 1.0000\n",
      "Epoch 53/200\n",
      "133/133 [==============================] - 40s 301ms/step - loss: 0.0112 - accuracy: 0.9962 - val_loss: 0.0000e+00 - val_accuracy: 1.0000\n",
      "Epoch 54/200\n",
      "133/133 [==============================] - 40s 301ms/step - loss: 0.0152 - accuracy: 0.9962 - val_loss: 0.0000e+00 - val_accuracy: 1.0000\n",
      "Epoch 55/200\n",
      "133/133 [==============================] - 40s 301ms/step - loss: 0.0137 - accuracy: 0.9962 - val_loss: 0.0000e+00 - val_accuracy: 1.0000\n"
     ]
    },
    {
     "name": "stdout",
     "output_type": "stream",
     "text": [
      "Epoch 56/200\n",
      "133/133 [==============================] - 40s 301ms/step - loss: 0.0107 - accuracy: 0.9962 - val_loss: 0.0000e+00 - val_accuracy: 1.0000\n",
      "Epoch 57/200\n",
      "133/133 [==============================] - 40s 301ms/step - loss: 0.0100 - accuracy: 0.9962 - val_loss: 0.0000e+00 - val_accuracy: 1.0000\n",
      "Epoch 58/200\n",
      "133/133 [==============================] - 40s 301ms/step - loss: 0.0212 - accuracy: 0.9962 - val_loss: 0.0000e+00 - val_accuracy: 1.0000\n",
      "Epoch 59/200\n",
      "133/133 [==============================] - 40s 301ms/step - loss: 0.0174 - accuracy: 0.9887 - val_loss: 0.0000e+00 - val_accuracy: 1.0000\n",
      "Epoch 60/200\n",
      "133/133 [==============================] - 40s 300ms/step - loss: 0.0091 - accuracy: 0.9962 - val_loss: 0.0000e+00 - val_accuracy: 1.0000\n",
      "Epoch 61/200\n",
      "133/133 [==============================] - 40s 301ms/step - loss: 0.0058 - accuracy: 0.9962 - val_loss: 0.0000e+00 - val_accuracy: 1.0000\n",
      "Epoch 62/200\n",
      "133/133 [==============================] - 40s 301ms/step - loss: 0.0390 - accuracy: 0.9962 - val_loss: 0.0000e+00 - val_accuracy: 1.0000\n",
      "Epoch 63/200\n",
      "133/133 [==============================] - 40s 301ms/step - loss: 0.0094 - accuracy: 0.9962 - val_loss: 0.0000e+00 - val_accuracy: 1.0000\n",
      "Epoch 64/200\n",
      "133/133 [==============================] - 40s 301ms/step - loss: 0.0094 - accuracy: 0.9962 - val_loss: 0.0000e+00 - val_accuracy: 1.0000\n",
      "Epoch 65/200\n",
      "133/133 [==============================] - 40s 301ms/step - loss: 0.0096 - accuracy: 0.9962 - val_loss: 0.0000e+00 - val_accuracy: 1.0000\n",
      "Epoch 66/200\n",
      "133/133 [==============================] - 40s 301ms/step - loss: 0.0099 - accuracy: 0.9962 - val_loss: 0.0000e+00 - val_accuracy: 1.0000\n",
      "Epoch 67/200\n",
      "133/133 [==============================] - 40s 301ms/step - loss: 0.0089 - accuracy: 0.9962 - val_loss: 0.0000e+00 - val_accuracy: 1.0000\n",
      "Epoch 68/200\n",
      "133/133 [==============================] - 40s 300ms/step - loss: 0.0115 - accuracy: 0.9962 - val_loss: 0.0000e+00 - val_accuracy: 1.0000\n",
      "Epoch 69/200\n",
      "133/133 [==============================] - 40s 301ms/step - loss: 0.0082 - accuracy: 0.9962 - val_loss: 0.0000e+00 - val_accuracy: 1.0000\n",
      "Epoch 70/200\n",
      "133/133 [==============================] - 40s 301ms/step - loss: 0.0301 - accuracy: 0.9962 - val_loss: 0.0000e+00 - val_accuracy: 1.0000\n",
      "Epoch 71/200\n",
      "133/133 [==============================] - 40s 301ms/step - loss: 0.0090 - accuracy: 0.9962 - val_loss: 0.0000e+00 - val_accuracy: 1.0000\n",
      "Epoch 72/200\n",
      "133/133 [==============================] - 40s 301ms/step - loss: 0.0091 - accuracy: 0.9962 - val_loss: 0.0000e+00 - val_accuracy: 1.0000\n",
      "Epoch 73/200\n",
      "133/133 [==============================] - 40s 301ms/step - loss: 0.0090 - accuracy: 0.9962 - val_loss: 0.0000e+00 - val_accuracy: 1.0000\n",
      "Epoch 74/200\n",
      "133/133 [==============================] - 40s 301ms/step - loss: 0.0090 - accuracy: 0.9962 - val_loss: 0.0000e+00 - val_accuracy: 1.0000\n",
      "Epoch 75/200\n",
      "133/133 [==============================] - 40s 301ms/step - loss: 0.0092 - accuracy: 0.9962 - val_loss: 0.0000e+00 - val_accuracy: 1.0000\n",
      "Epoch 76/200\n",
      "133/133 [==============================] - 40s 301ms/step - loss: 0.0092 - accuracy: 0.9962 - val_loss: 0.0000e+00 - val_accuracy: 1.0000\n",
      "Epoch 77/200\n",
      "133/133 [==============================] - 40s 301ms/step - loss: 0.0090 - accuracy: 0.9962 - val_loss: 0.0000e+00 - val_accuracy: 1.0000\n",
      "Epoch 78/200\n",
      "133/133 [==============================] - 40s 301ms/step - loss: 0.0086 - accuracy: 0.9962 - val_loss: 0.0000e+00 - val_accuracy: 1.0000\n",
      "Epoch 79/200\n",
      "133/133 [==============================] - 40s 301ms/step - loss: 0.0084 - accuracy: 0.9962 - val_loss: 0.0000e+00 - val_accuracy: 1.0000\n",
      "Epoch 80/200\n",
      "133/133 [==============================] - 40s 301ms/step - loss: 0.0095 - accuracy: 0.9962 - val_loss: 0.0000e+00 - val_accuracy: 1.0000\n",
      "Epoch 81/200\n",
      "133/133 [==============================] - 40s 300ms/step - loss: 0.0089 - accuracy: 0.9962 - val_loss: 0.0000e+00 - val_accuracy: 1.0000\n",
      "Epoch 82/200\n",
      "133/133 [==============================] - 40s 301ms/step - loss: 0.0096 - accuracy: 0.9925 - val_loss: 0.0000e+00 - val_accuracy: 1.0000\n",
      "Epoch 83/200\n",
      "133/133 [==============================] - 40s 301ms/step - loss: 0.0088 - accuracy: 0.9962 - val_loss: 0.0000e+00 - val_accuracy: 1.0000\n",
      "Epoch 84/200\n",
      "133/133 [==============================] - 40s 301ms/step - loss: 0.0084 - accuracy: 0.9962 - val_loss: 0.0000e+00 - val_accuracy: 1.0000\n",
      "Epoch 85/200\n",
      "133/133 [==============================] - 40s 301ms/step - loss: 0.0090 - accuracy: 0.9962 - val_loss: 0.0000e+00 - val_accuracy: 1.0000\n",
      "Epoch 86/200\n",
      "133/133 [==============================] - 40s 301ms/step - loss: 0.2652 - accuracy: 0.9887 - val_loss: 2.7257e-24 - val_accuracy: 1.0000\n",
      "Epoch 87/200\n",
      "133/133 [==============================] - 40s 301ms/step - loss: 18.0251 - accuracy: 0.9698 - val_loss: 0.0000e+00 - val_accuracy: 1.0000\n",
      "Epoch 88/200\n",
      "133/133 [==============================] - 40s 301ms/step - loss: 0.0292 - accuracy: 0.9849 - val_loss: 0.0000e+00 - val_accuracy: 1.0000\n",
      "Epoch 89/200\n",
      "133/133 [==============================] - 40s 301ms/step - loss: 1.4198 - accuracy: 0.9736 - val_loss: 30.7245 - val_accuracy: 0.9000\n",
      "Epoch 90/200\n",
      "133/133 [==============================] - 40s 300ms/step - loss: 2.2316 - accuracy: 0.9698 - val_loss: 0.0000e+00 - val_accuracy: 1.0000\n",
      "Epoch 91/200\n",
      "133/133 [==============================] - 40s 301ms/step - loss: 0.0249 - accuracy: 0.9849 - val_loss: 0.0000e+00 - val_accuracy: 1.0000\n",
      "Epoch 92/200\n",
      "133/133 [==============================] - 40s 301ms/step - loss: 0.0275 - accuracy: 0.9887 - val_loss: 0.0000e+00 - val_accuracy: 1.0000\n",
      "Epoch 93/200\n",
      "133/133 [==============================] - 40s 301ms/step - loss: 0.0183 - accuracy: 0.9887 - val_loss: 0.0000e+00 - val_accuracy: 1.0000\n",
      "Epoch 94/200\n",
      "133/133 [==============================] - 40s 301ms/step - loss: 0.0354 - accuracy: 0.9849 - val_loss: 8.4443e-33 - val_accuracy: 1.0000\n",
      "Epoch 95/200\n",
      "133/133 [==============================] - 40s 301ms/step - loss: 0.0328 - accuracy: 0.9849 - val_loss: 0.0000e+00 - val_accuracy: 1.0000\n",
      "Epoch 96/200\n",
      "133/133 [==============================] - 40s 301ms/step - loss: 0.0216 - accuracy: 0.9887 - val_loss: 0.0000e+00 - val_accuracy: 1.0000\n",
      "Epoch 97/200\n",
      "133/133 [==============================] - 40s 301ms/step - loss: 0.0703 - accuracy: 0.9849 - val_loss: 0.0000e+00 - val_accuracy: 1.0000\n",
      "Epoch 98/200\n",
      "133/133 [==============================] - 40s 301ms/step - loss: 0.0173 - accuracy: 0.9849 - val_loss: 0.0000e+00 - val_accuracy: 1.0000\n",
      "Epoch 99/200\n",
      "133/133 [==============================] - 40s 301ms/step - loss: 0.0152 - accuracy: 0.9887 - val_loss: 0.0000e+00 - val_accuracy: 1.0000\n",
      "Epoch 100/200\n",
      "133/133 [==============================] - 40s 301ms/step - loss: 0.0165 - accuracy: 0.9887 - val_loss: 0.0000e+00 - val_accuracy: 1.0000\n",
      "Epoch 101/200\n",
      "133/133 [==============================] - 40s 301ms/step - loss: 0.0160 - accuracy: 0.9887 - val_loss: 0.0000e+00 - val_accuracy: 1.0000\n",
      "Epoch 102/200\n",
      "133/133 [==============================] - 40s 301ms/step - loss: 0.0134 - accuracy: 0.9925 - val_loss: 0.0000e+00 - val_accuracy: 1.0000\n",
      "Epoch 103/200\n",
      "133/133 [==============================] - 40s 301ms/step - loss: 0.0164 - accuracy: 0.9887 - val_loss: 0.0000e+00 - val_accuracy: 1.0000\n",
      "Epoch 104/200\n",
      "133/133 [==============================] - 40s 301ms/step - loss: 0.0429 - accuracy: 0.9925 - val_loss: 0.0000e+00 - val_accuracy: 1.0000\n",
      "Epoch 105/200\n",
      "133/133 [==============================] - 40s 301ms/step - loss: 0.0145 - accuracy: 0.9887 - val_loss: 0.0000e+00 - val_accuracy: 1.0000\n",
      "Epoch 106/200\n",
      "133/133 [==============================] - 40s 301ms/step - loss: 0.0133 - accuracy: 0.9925 - val_loss: 0.0000e+00 - val_accuracy: 1.0000\n",
      "Epoch 107/200\n",
      "133/133 [==============================] - 40s 301ms/step - loss: 0.0065 - accuracy: 0.9962 - val_loss: 0.0000e+00 - val_accuracy: 1.0000\n",
      "Epoch 108/200\n",
      "133/133 [==============================] - 40s 301ms/step - loss: 0.0238 - accuracy: 0.9887 - val_loss: 0.0000e+00 - val_accuracy: 1.0000\n",
      "Epoch 109/200\n",
      "133/133 [==============================] - 40s 301ms/step - loss: 0.0116 - accuracy: 0.9962 - val_loss: 0.0000e+00 - val_accuracy: 1.0000\n",
      "Epoch 110/200\n",
      "133/133 [==============================] - 40s 301ms/step - loss: 0.0100 - accuracy: 0.9962 - val_loss: 0.0000e+00 - val_accuracy: 1.0000\n",
      "Epoch 111/200\n",
      "133/133 [==============================] - 40s 301ms/step - loss: 0.0095 - accuracy: 0.9962 - val_loss: 0.0000e+00 - val_accuracy: 1.0000\n",
      "Epoch 112/200\n",
      "133/133 [==============================] - 40s 301ms/step - loss: 0.0083 - accuracy: 0.9962 - val_loss: 0.0000e+00 - val_accuracy: 1.0000\n",
      "Epoch 113/200\n",
      "133/133 [==============================] - 40s 301ms/step - loss: 0.0084 - accuracy: 0.9962 - val_loss: 0.0000e+00 - val_accuracy: 1.0000\n",
      "Epoch 114/200\n",
      "133/133 [==============================] - 40s 301ms/step - loss: 0.1131 - accuracy: 0.9925 - val_loss: 0.0000e+00 - val_accuracy: 1.0000\n",
      "Epoch 115/200\n",
      "133/133 [==============================] - 40s 300ms/step - loss: 0.0086 - accuracy: 0.9962 - val_loss: 0.0000e+00 - val_accuracy: 1.0000\n",
      "Epoch 116/200\n",
      "133/133 [==============================] - 40s 301ms/step - loss: 0.0095 - accuracy: 0.9962 - val_loss: 0.0000e+00 - val_accuracy: 1.0000\n",
      "Epoch 117/200\n",
      "133/133 [==============================] - 40s 301ms/step - loss: 0.0078 - accuracy: 0.9962 - val_loss: 0.0000e+00 - val_accuracy: 1.0000\n",
      "Epoch 118/200\n",
      "133/133 [==============================] - 40s 301ms/step - loss: 0.0083 - accuracy: 0.9925 - val_loss: 0.0000e+00 - val_accuracy: 1.0000\n",
      "Epoch 119/200\n",
      "133/133 [==============================] - 40s 301ms/step - loss: 0.0081 - accuracy: 0.9962 - val_loss: 0.0000e+00 - val_accuracy: 1.0000\n",
      "Epoch 120/200\n",
      "133/133 [==============================] - 40s 301ms/step - loss: 0.0083 - accuracy: 0.9925 - val_loss: 0.0000e+00 - val_accuracy: 1.0000\n",
      "Epoch 121/200\n",
      "133/133 [==============================] - 40s 301ms/step - loss: 0.0086 - accuracy: 0.9925 - val_loss: 0.0000e+00 - val_accuracy: 1.0000\n",
      "Epoch 122/200\n",
      "133/133 [==============================] - 40s 301ms/step - loss: 0.0053 - accuracy: 0.9962 - val_loss: 0.0000e+00 - val_accuracy: 1.0000\n",
      "Epoch 123/200\n",
      "133/133 [==============================] - 40s 301ms/step - loss: 0.0060 - accuracy: 0.9962 - val_loss: 0.0000e+00 - val_accuracy: 1.0000\n",
      "Epoch 124/200\n",
      "133/133 [==============================] - 40s 301ms/step - loss: 0.0078 - accuracy: 0.9962 - val_loss: 0.0000e+00 - val_accuracy: 1.0000\n",
      "Epoch 125/200\n",
      "133/133 [==============================] - 40s 301ms/step - loss: 0.0077 - accuracy: 0.9925 - val_loss: 0.0000e+00 - val_accuracy: 1.0000\n",
      "Epoch 126/200\n",
      "133/133 [==============================] - 40s 301ms/step - loss: 0.0097 - accuracy: 0.9887 - val_loss: 0.0000e+00 - val_accuracy: 1.0000\n",
      "Epoch 127/200\n",
      "133/133 [==============================] - 40s 301ms/step - loss: 0.0199 - accuracy: 0.9962 - val_loss: 0.0000e+00 - val_accuracy: 1.0000\n",
      "Epoch 128/200\n",
      "133/133 [==============================] - 40s 301ms/step - loss: 0.5634 - accuracy: 0.9811 - val_loss: 0.0000e+00 - val_accuracy: 1.0000\n",
      "Epoch 129/200\n",
      "133/133 [==============================] - 40s 301ms/step - loss: 0.3194 - accuracy: 0.9925 - val_loss: 0.0000e+00 - val_accuracy: 1.0000\n",
      "Epoch 130/200\n",
      "133/133 [==============================] - 40s 301ms/step - loss: 0.0106 - accuracy: 0.9925 - val_loss: 0.0000e+00 - val_accuracy: 1.0000\n",
      "Epoch 131/200\n",
      "133/133 [==============================] - 40s 301ms/step - loss: 0.0076 - accuracy: 0.9962 - val_loss: 0.0000e+00 - val_accuracy: 1.0000\n",
      "Epoch 132/200\n",
      "133/133 [==============================] - 40s 301ms/step - loss: 0.0075 - accuracy: 0.9962 - val_loss: 0.0000e+00 - val_accuracy: 1.0000\n",
      "Epoch 133/200\n",
      "133/133 [==============================] - 40s 301ms/step - loss: 0.0082 - accuracy: 0.9962 - val_loss: 0.0000e+00 - val_accuracy: 1.0000\n",
      "Epoch 134/200\n",
      "133/133 [==============================] - 40s 301ms/step - loss: 0.0081 - accuracy: 0.9962 - val_loss: 0.0000e+00 - val_accuracy: 1.0000\n",
      "Epoch 135/200\n",
      "133/133 [==============================] - 40s 301ms/step - loss: 5.9723 - accuracy: 0.9887 - val_loss: 0.7938 - val_accuracy: 0.9667\n",
      "Epoch 136/200\n",
      "133/133 [==============================] - 40s 301ms/step - loss: 0.1333 - accuracy: 0.9887 - val_loss: 6.7488e-14 - val_accuracy: 1.0000\n",
      "Epoch 137/200\n",
      "133/133 [==============================] - 40s 301ms/step - loss: 0.0088 - accuracy: 0.9962 - val_loss: 1.9556e-19 - val_accuracy: 1.0000\n",
      "Epoch 138/200\n",
      "133/133 [==============================] - 40s 300ms/step - loss: 0.0079 - accuracy: 0.9962 - val_loss: 1.3017e-22 - val_accuracy: 1.0000\n",
      "Epoch 139/200\n",
      "133/133 [==============================] - 40s 301ms/step - loss: 0.0072 - accuracy: 0.9962 - val_loss: 1.2239e-22 - val_accuracy: 1.0000\n",
      "Epoch 140/200\n",
      "133/133 [==============================] - 40s 301ms/step - loss: 0.0078 - accuracy: 0.9962 - val_loss: 1.0786e-24 - val_accuracy: 1.0000\n",
      "Epoch 141/200\n",
      "133/133 [==============================] - 40s 301ms/step - loss: 0.0078 - accuracy: 0.9962 - val_loss: 8.4704e-25 - val_accuracy: 1.0000\n",
      "Epoch 142/200\n",
      "133/133 [==============================] - 40s 301ms/step - loss: 0.0069 - accuracy: 0.9962 - val_loss: 7.2924e-25 - val_accuracy: 1.0000\n",
      "Epoch 143/200\n",
      "133/133 [==============================] - 40s 301ms/step - loss: 0.0070 - accuracy: 0.9962 - val_loss: 6.0615e-25 - val_accuracy: 1.0000\n",
      "Epoch 144/200\n",
      "133/133 [==============================] - 40s 301ms/step - loss: 0.0075 - accuracy: 0.9962 - val_loss: 5.3536e-23 - val_accuracy: 1.0000\n",
      "Epoch 145/200\n",
      "133/133 [==============================] - 40s 301ms/step - loss: 0.0093 - accuracy: 0.9925 - val_loss: 5.9364e-24 - val_accuracy: 1.0000\n",
      "Epoch 146/200\n",
      "133/133 [==============================] - 40s 301ms/step - loss: 0.0072 - accuracy: 0.9962 - val_loss: 1.9490e-24 - val_accuracy: 1.0000\n",
      "Epoch 147/200\n",
      "133/133 [==============================] - 40s 301ms/step - loss: 0.0064 - accuracy: 0.9962 - val_loss: 4.2829e-25 - val_accuracy: 1.0000\n",
      "Epoch 148/200\n",
      "133/133 [==============================] - 40s 301ms/step - loss: 0.0133 - accuracy: 0.9962 - val_loss: 8.3184e-19 - val_accuracy: 1.0000\n",
      "Epoch 149/200\n",
      "133/133 [==============================] - 40s 301ms/step - loss: 0.0070 - accuracy: 0.9962 - val_loss: 5.4119e-18 - val_accuracy: 1.0000\n",
      "Epoch 150/200\n",
      "133/133 [==============================] - 40s 301ms/step - loss: 0.0082 - accuracy: 0.9962 - val_loss: 1.3119e-17 - val_accuracy: 1.0000\n",
      "Epoch 151/200\n",
      "133/133 [==============================] - 40s 300ms/step - loss: 0.0070 - accuracy: 0.9962 - val_loss: 1.1577e-17 - val_accuracy: 1.0000\n",
      "Epoch 152/200\n",
      "133/133 [==============================] - 40s 301ms/step - loss: 0.0082 - accuracy: 0.9962 - val_loss: 1.1005e-17 - val_accuracy: 1.0000\n",
      "Epoch 153/200\n",
      "133/133 [==============================] - 40s 301ms/step - loss: 0.0074 - accuracy: 0.9962 - val_loss: 3.7835e-17 - val_accuracy: 1.0000\n",
      "Epoch 154/200\n",
      "133/133 [==============================] - 40s 301ms/step - loss: 0.0073 - accuracy: 0.9962 - val_loss: 9.1730e-18 - val_accuracy: 1.0000\n",
      "Epoch 155/200\n",
      "133/133 [==============================] - 40s 301ms/step - loss: 0.0077 - accuracy: 0.9962 - val_loss: 8.2141e-18 - val_accuracy: 1.0000\n",
      "Epoch 156/200\n",
      "133/133 [==============================] - 40s 301ms/step - loss: 0.0121 - accuracy: 0.9962 - val_loss: 4.3402e-14 - val_accuracy: 1.0000\n",
      "Epoch 157/200\n",
      "133/133 [==============================] - 40s 300ms/step - loss: 0.0069 - accuracy: 0.9962 - val_loss: 8.9687e-13 - val_accuracy: 1.0000\n",
      "Epoch 158/200\n",
      "133/133 [==============================] - 40s 300ms/step - loss: 0.0070 - accuracy: 0.9962 - val_loss: 1.0915e-13 - val_accuracy: 1.0000\n",
      "Epoch 159/200\n",
      "133/133 [==============================] - 40s 301ms/step - loss: 0.0077 - accuracy: 0.9962 - val_loss: 1.0044e-12 - val_accuracy: 1.0000\n",
      "Epoch 160/200\n",
      "133/133 [==============================] - 40s 301ms/step - loss: 3.0667 - accuracy: 0.9660 - val_loss: 0.0000e+00 - val_accuracy: 1.0000\n",
      "Epoch 161/200\n",
      "133/133 [==============================] - 40s 301ms/step - loss: 0.0190 - accuracy: 0.9887 - val_loss: 0.0000e+00 - val_accuracy: 1.0000\n",
      "Epoch 162/200\n",
      "133/133 [==============================] - 40s 301ms/step - loss: 0.0930 - accuracy: 0.9887 - val_loss: 0.0000e+00 - val_accuracy: 1.0000\n",
      "Epoch 163/200\n",
      "133/133 [==============================] - 40s 301ms/step - loss: 0.0112 - accuracy: 0.9962 - val_loss: 0.0000e+00 - val_accuracy: 1.0000\n",
      "Epoch 164/200\n"
     ]
    },
    {
     "name": "stdout",
     "output_type": "stream",
     "text": [
      "133/133 [==============================] - 40s 301ms/step - loss: 1.2021 - accuracy: 0.9887 - val_loss: 0.0000e+00 - val_accuracy: 1.0000\n",
      "Epoch 165/200\n",
      "133/133 [==============================] - 40s 301ms/step - loss: 0.7344 - accuracy: 0.9849 - val_loss: 0.0000e+00 - val_accuracy: 1.0000\n",
      "Epoch 166/200\n",
      "133/133 [==============================] - 40s 300ms/step - loss: 0.1080 - accuracy: 0.9925 - val_loss: 0.0000e+00 - val_accuracy: 1.0000\n",
      "Epoch 167/200\n",
      "133/133 [==============================] - 40s 300ms/step - loss: 0.0095 - accuracy: 0.9962 - val_loss: 0.0000e+00 - val_accuracy: 1.0000\n",
      "Epoch 168/200\n",
      "133/133 [==============================] - 40s 301ms/step - loss: 0.0089 - accuracy: 0.9962 - val_loss: 0.0000e+00 - val_accuracy: 1.0000\n",
      "Epoch 169/200\n",
      "133/133 [==============================] - 40s 301ms/step - loss: 0.0542 - accuracy: 0.9925 - val_loss: 0.0000e+00 - val_accuracy: 1.0000\n",
      "Epoch 170/200\n",
      "133/133 [==============================] - 40s 301ms/step - loss: 0.2222 - accuracy: 0.9962 - val_loss: 0.0000e+00 - val_accuracy: 1.0000\n",
      "Epoch 171/200\n",
      "133/133 [==============================] - 40s 301ms/step - loss: 0.0093 - accuracy: 0.9962 - val_loss: 0.0000e+00 - val_accuracy: 1.0000\n",
      "Epoch 172/200\n",
      "133/133 [==============================] - 40s 301ms/step - loss: 0.0109 - accuracy: 0.9962 - val_loss: 0.0000e+00 - val_accuracy: 1.0000\n",
      "Epoch 173/200\n",
      "133/133 [==============================] - 40s 301ms/step - loss: 0.0095 - accuracy: 0.9962 - val_loss: 0.0000e+00 - val_accuracy: 1.0000\n",
      "Epoch 174/200\n",
      "133/133 [==============================] - 40s 301ms/step - loss: 0.0092 - accuracy: 0.9962 - val_loss: 0.0000e+00 - val_accuracy: 1.0000\n",
      "Epoch 175/200\n",
      "133/133 [==============================] - 40s 301ms/step - loss: 0.0084 - accuracy: 0.9962 - val_loss: 0.0000e+00 - val_accuracy: 1.0000\n",
      "Epoch 176/200\n",
      "133/133 [==============================] - 40s 301ms/step - loss: 0.0085 - accuracy: 0.9962 - val_loss: 0.0000e+00 - val_accuracy: 1.0000\n",
      "Epoch 177/200\n",
      "133/133 [==============================] - 40s 301ms/step - loss: 0.0091 - accuracy: 0.9962 - val_loss: 0.0000e+00 - val_accuracy: 1.0000\n",
      "Epoch 178/200\n",
      "133/133 [==============================] - 40s 301ms/step - loss: 0.0083 - accuracy: 0.9962 - val_loss: 0.0000e+00 - val_accuracy: 1.0000\n",
      "Epoch 179/200\n",
      "133/133 [==============================] - 40s 301ms/step - loss: 0.1747 - accuracy: 0.9962 - val_loss: 0.0000e+00 - val_accuracy: 1.0000\n",
      "Epoch 180/200\n",
      "133/133 [==============================] - 40s 301ms/step - loss: 0.0110 - accuracy: 0.9925 - val_loss: 5.6330e-33 - val_accuracy: 1.0000\n",
      "Epoch 181/200\n",
      "133/133 [==============================] - 40s 301ms/step - loss: 1.0408 - accuracy: 0.9849 - val_loss: 0.0000e+00 - val_accuracy: 1.0000\n",
      "Epoch 182/200\n",
      "133/133 [==============================] - 40s 301ms/step - loss: 1.4253 - accuracy: 0.9962 - val_loss: 0.0000e+00 - val_accuracy: 1.0000\n",
      "Epoch 183/200\n",
      "133/133 [==============================] - 40s 301ms/step - loss: 0.2824 - accuracy: 0.9962 - val_loss: 0.0000e+00 - val_accuracy: 1.0000\n",
      "Epoch 184/200\n",
      "133/133 [==============================] - 40s 301ms/step - loss: 0.0093 - accuracy: 0.9962 - val_loss: 0.0000e+00 - val_accuracy: 1.0000\n",
      "Epoch 185/200\n",
      "133/133 [==============================] - 40s 301ms/step - loss: 0.0085 - accuracy: 0.9962 - val_loss: 0.0000e+00 - val_accuracy: 1.0000\n",
      "Epoch 186/200\n",
      "133/133 [==============================] - 40s 301ms/step - loss: 0.0078 - accuracy: 0.9962 - val_loss: 0.0000e+00 - val_accuracy: 1.0000\n",
      "Epoch 187/200\n",
      "133/133 [==============================] - 40s 301ms/step - loss: 0.0088 - accuracy: 0.9962 - val_loss: 0.0000e+00 - val_accuracy: 1.0000\n",
      "Epoch 188/200\n",
      "133/133 [==============================] - 40s 301ms/step - loss: 0.0096 - accuracy: 0.9962 - val_loss: 0.0000e+00 - val_accuracy: 1.0000\n",
      "Epoch 189/200\n",
      "133/133 [==============================] - 40s 301ms/step - loss: 0.0094 - accuracy: 0.9962 - val_loss: 0.0000e+00 - val_accuracy: 1.0000\n",
      "Epoch 190/200\n",
      "133/133 [==============================] - 40s 300ms/step - loss: 0.0091 - accuracy: 0.9962 - val_loss: 0.0000e+00 - val_accuracy: 1.0000\n",
      "Epoch 191/200\n",
      "133/133 [==============================] - 40s 301ms/step - loss: 0.0086 - accuracy: 0.9962 - val_loss: 0.0000e+00 - val_accuracy: 1.0000\n",
      "Epoch 192/200\n",
      "133/133 [==============================] - 40s 301ms/step - loss: 0.0075 - accuracy: 0.9962 - val_loss: 0.0000e+00 - val_accuracy: 1.0000\n",
      "Epoch 193/200\n",
      "133/133 [==============================] - 40s 301ms/step - loss: 0.0095 - accuracy: 0.9962 - val_loss: 0.0000e+00 - val_accuracy: 1.0000\n",
      "Epoch 194/200\n",
      "133/133 [==============================] - 40s 301ms/step - loss: 0.0685 - accuracy: 0.9887 - val_loss: 0.0000e+00 - val_accuracy: 1.0000\n",
      "Epoch 195/200\n",
      "133/133 [==============================] - 40s 301ms/step - loss: 2.0565 - accuracy: 0.9849 - val_loss: 0.0000e+00 - val_accuracy: 1.0000\n",
      "Epoch 196/200\n",
      "133/133 [==============================] - 40s 301ms/step - loss: 0.0726 - accuracy: 0.9925 - val_loss: 0.0000e+00 - val_accuracy: 1.0000\n",
      "Epoch 197/200\n",
      "133/133 [==============================] - 40s 301ms/step - loss: 0.0054 - accuracy: 0.9962 - val_loss: 0.0000e+00 - val_accuracy: 1.0000\n",
      "Epoch 198/200\n",
      "133/133 [==============================] - 40s 301ms/step - loss: 0.0015 - accuracy: 1.0000 - val_loss: 0.0000e+00 - val_accuracy: 1.0000\n",
      "Epoch 199/200\n",
      "133/133 [==============================] - 40s 300ms/step - loss: 0.0017 - accuracy: 1.0000 - val_loss: 0.0000e+00 - val_accuracy: 1.0000\n",
      "Epoch 200/200\n",
      "133/133 [==============================] - 40s 301ms/step - loss: 0.0018 - accuracy: 1.0000 - val_loss: 0.0000e+00 - val_accuracy: 1.0000\n"
     ]
    }
   ],
   "source": [
    "history = model.fit(X_train_normal,y_train,batch_size=2,\n",
    "                                       epochs=200,\n",
    "                                       validation_data=(X_val_normal,y_val),callbacks=callbacks)"
   ]
  },
  {
   "cell_type": "code",
   "execution_count": 33,
   "metadata": {
    "colab": {
     "base_uri": "https://localhost:8080/",
     "height": 573
    },
    "id": "pHVr5VKR8uUb",
    "outputId": "ce4e61cb-ac73-46d8-e445-efe761b825c5"
   },
   "outputs": [
    {
     "data": {
      "image/png": "[encoded data removed]",
      "text/plain": [
       "<Figure size 432x288 with 1 Axes>"
      ]
     },
     "metadata": {
      "needs_background": "light"
     },
     "output_type": "display_data"
    },
    {
     "data": {
      "image/png": "[encoded data removed]",
      "text/plain": [
       "<Figure size 432x288 with 1 Axes>"
      ]
     },
     "metadata": {
      "needs_background": "light"
     },
     "output_type": "display_data"
    }
   ],
   "source": [
    "# Plot training & validation accuracy values\n",
    "plt.plot(history.history['accuracy'])\n",
    "plt.plot(history.history['val_accuracy'])\n",
    "plt.title('ResNet_model accuracy')\n",
    "plt.ylabel('Accuracy')\n",
    "plt.xlabel('Epoch')\n",
    "plt.legend(['Train', 'validation'], loc='upper left')\n",
    "plt.show()\n",
    "\n",
    "# Plot training & validation loss values\n",
    "plt.plot(history.history['loss'])\n",
    "plt.plot(history.history['val_loss'])\n",
    "plt.title('ResNet_model loss')\n",
    "plt.ylabel('Loss')\n",
    "plt.xlabel('Epoch')\n",
    "plt.legend(['Train', 'Validation'], loc='upper left')\n",
    "plt.show()"
   ]
  },
  {
   "cell_type": "markdown",
   "metadata": {
    "id": "z3waaf46P95m"
   },
   "source": [
    "##**Predictions**"
   ]
  },
  {
   "cell_type": "code",
   "execution_count": 34,
   "metadata": {
    "colab": {
     "base_uri": "https://localhost:8080/"
    },
    "id": "jXTezthuKTIV",
    "outputId": "9465cb0a-17fd-41b0-aae6-fcf25038229e"
   },
   "outputs": [
    {
     "name": "stderr",
     "output_type": "stream",
     "text": [
      "2022-10-22 18:27:20.309144: W tensorflow/core/common_runtime/bfc_allocator.cc:290] Allocator (GPU_0_bfc) ran out of memory trying to allocate 2.83GiB with freed_by_count=0. The caller indicates that this is not a failure, but this may mean that there could be performance gains if more memory were available.\n",
      "2022-10-22 18:27:20.433120: W tensorflow/core/common_runtime/bfc_allocator.cc:290] Allocator (GPU_0_bfc) ran out of memory trying to allocate 2.02GiB with freed_by_count=0. The caller indicates that this is not a failure, but this may mean that there could be performance gains if more memory were available.\n",
      "2022-10-22 18:27:20.433170: W tensorflow/core/kernels/gpu_utils.cc:50] Failed to allocate memory for convolution redzone checking; skipping this check. This is benign and only means that we won't check cudnn for out-of-bounds reads and writes. This message will only be printed once.\n"
     ]
    },
    {
     "name": "stdout",
     "output_type": "stream",
     "text": [
      "Test loss: 0.0 / Test accuracy: 1.0\n"
     ]
    }
   ],
   "source": [
    "# Generate generalization metrics\n",
    "score = model.evaluate(X_test_normal,y_test,verbose=0)\n",
    "print(f'Test loss: {score[0]} / Test accuracy: {score[1]}')"
   ]
  },
  {
   "cell_type": "code",
   "execution_count": 35,
   "metadata": {},
   "outputs": [
    {
     "data": {
      "text/plain": [
       "[0.0, 1.0]"
      ]
     },
     "execution_count": 35,
     "metadata": {},
     "output_type": "execute_result"
    }
   ],
   "source": [
    "score"
   ]
  },
  {
   "cell_type": "code",
   "execution_count": 40,
   "metadata": {},
   "outputs": [],
   "source": [
    "protein_name= 'All_Channels'\n",
    "dataset_name= 'nDNAPatients'"
   ]
  },
  {
   "cell_type": "code",
   "execution_count": 41,
   "metadata": {},
   "outputs": [
    {
     "name": "stdout",
     "output_type": "stream",
     "text": [
      "2/2 [==============================] - 2s 137ms/step\n",
      "              precision    recall  f1-score   support\n",
      "\n",
      "           0       1.00      1.00      1.00        23\n",
      "           1       1.00      1.00      1.00        10\n",
      "\n",
      "    accuracy                           1.00        33\n",
      "   macro avg       1.00      1.00      1.00        33\n",
      "weighted avg       1.00      1.00      1.00        33\n",
      "\n"
     ]
    }
   ],
   "source": [
    "from sklearn.metrics import confusion_matrix, classification_report\n",
    "# Predict the label of the test_images\n",
    "pred = model.predict(X_test_normal)\n",
    "pred = np.argmax(pred,axis=1)\n",
    "\n",
    "confusion_mat = confusion_matrix(y_test_r, pred)\n",
    "\n",
    "print(classification_report(y_test_r, pred))"
   ]
  },
  {
   "cell_type": "code",
   "execution_count": 42,
   "metadata": {},
   "outputs": [
    {
     "data": {
      "image/png": "[encoded data removed]",
      "text/plain": [
       "<Figure size 432x288 with 1 Axes>"
      ]
     },
     "metadata": {
      "needs_background": "light"
     },
     "output_type": "display_data"
    },
    {
     "data": {
      "text/plain": [
       "<Figure size 1080x720 with 0 Axes>"
      ]
     },
     "metadata": {},
     "output_type": "display_data"
    }
   ],
   "source": [
    "fig, ax = plt.subplots()\n",
    "\n",
    "ax.matshow(confusion_mat, cmap=plt.cm.Blues)\n",
    "\n",
    "ax.set_title(f\"Confusion Matrix;Channel:{protein_name} \\n Dataset:{dataset_name}; Seed:{random_state}\")\n",
    "ax.set_xlabel('Prediction')\n",
    "ax.set_ylabel('True Label')\n",
    "\n",
    "tick_labels = ['Control', 'Patient']\n",
    "\n",
    "ax.set_xticks(range(len(tick_labels)))\n",
    "ax.set_yticks(range(len(tick_labels)))\n",
    "ax.set_xticklabels(tick_labels)\n",
    "ax.set_yticklabels(tick_labels)\n",
    "\n",
    "for i in range(len(tick_labels)):\n",
    "    for j in range(len(tick_labels)):\n",
    "        ax.text(j, i, confusion_mat[i, j],\n",
    "               ha='center', va='center')\n",
    "        \n",
    "plt.figure(figsize=(15,10))\n",
    "plt.show()"
   ]
  },
  {
   "cell_type": "markdown",
   "metadata": {
    "id": "bhEL2ws0-9ee"
   },
   "source": [
    "**Saving the model**\n",
    "\n",
    "The saved full model file includes:\n",
    "\n",
    "The model's architecture,The model's weight values"
   ]
  },
  {
   "cell_type": "code",
   "execution_count": 43,
   "metadata": {
    "colab": {
     "base_uri": "https://localhost:8080/"
    },
    "id": "qaZDxaSfr2Y5",
    "outputId": "91201a13-a180-4284-a4ee-84c35cfc114d"
   },
   "outputs": [
    {
     "name": "stdout",
     "output_type": "stream",
     "text": [
      "saved the model\n"
     ]
    }
   ],
   "source": [
    "model.save(f'./models/multichannel/Vgg16{random_state}.h5')\n",
    "print(\"saved the model\")"
   ]
  },
  {
   "cell_type": "code",
   "execution_count": null,
   "metadata": {},
   "outputs": [],
   "source": []
  }
 ],
 "metadata": {
  "accelerator": "GPU",
  "colab": {
   "collapsed_sections": [
    "ADiR6jyFy-WN"
   ],
   "name": "Final_project_Saliency_maps_Combine_Proteins.ipynb",
   "provenance": []
  },
  "gpuClass": "standard",
  "kernel_info": {
   "name": "python3"
  },
  "kernelspec": {
   "display_name": "Python 3 (ipykernel)",
   "language": "python",
   "name": "python3"
  },
  "language_info": {
   "codemirror_mode": {
    "name": "ipython",
    "version": 3
   },
   "file_extension": ".py",
   "mimetype": "text/x-python",
   "name": "python",
   "nbconvert_exporter": "python",
   "pygments_lexer": "ipython3",
   "version": "3.8.5"
  },
  "nteract": {
   "version": "nteract-front-end@1.0.0"
  }
 },
 "nbformat": 4,
 "nbformat_minor": 1
}
